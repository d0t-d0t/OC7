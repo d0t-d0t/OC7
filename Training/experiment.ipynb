{
 "cells": [
  {
   "cell_type": "markdown",
   "id": "da8f58d4",
   "metadata": {},
   "source": [
    "# Parameters"
   ]
  },
  {
   "cell_type": "code",
   "execution_count": null,
   "id": "0ad2d0c7",
   "metadata": {},
   "outputs": [],
   "source": [
    "from model_unet import Unet\n",
    "\n",
    "params={    \n",
    "    'model_func' : Unet,\n",
    "    'model_params' : {\n",
    "        'img_height' : 256,\n",
    "        'img_width'  : 256,\n",
    "        'nclasses'   : 8\n",
    "    },\n",
    "    'gen_params' : {'batch_size':4,\n",
    "                    'dim':(256,256),\n",
    "                    },\n",
    "    'metrics' : [\n",
    "            # dice_coeff,\n",
    "            'accuracy'],\n",
    "    'train_step_per_epoch' : None, #sample/batch_size\n",
    "    'val_step_per_epoch' : None,\n",
    "    'num_epochs' : 8,\n",
    "    'training_description' : 'cityscape segmentation experiments',\n",
    "    'model_name' : 'Unet',\n",
    "    }\n"
   ]
  },
  {
   "cell_type": "markdown",
   "id": "ca89b8d0",
   "metadata": {},
   "source": [
    "# Run\n",
    "\n"
   ]
  },
  {
   "cell_type": "code",
   "execution_count": null,
   "id": "26cf1283",
   "metadata": {},
   "outputs": [],
   "source": [
    "from mlflow_tools import cityscape_experiment,start_local_experiment\n",
    "\n",
    "start_local_experiment()"
   ]
  },
  {
   "cell_type": "code",
   "execution_count": null,
   "id": "d278a371",
   "metadata": {},
   "outputs": [],
   "source": [
    "\n",
    "cityscape_experiment(**params)"
   ]
  }
 ],
 "metadata": {
  "kernelspec": {
   "display_name": "projet3",
   "language": "python",
   "name": "python3"
  },
  "language_info": {
   "name": "python",
   "version": "3.12.9"
  }
 },
 "nbformat": 4,
 "nbformat_minor": 5
}
